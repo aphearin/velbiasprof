{
 "metadata": {
  "name": "",
  "signature": "sha256:839e1119a3d06f3700d602f07447eecebfce8cb3cdcc2624fb5330ce616ca88d"
 },
 "nbformat": 3,
 "nbformat_minor": 0,
 "worksheets": [
  {
   "cells": [
    {
     "cell_type": "code",
     "collapsed": false,
     "input": [
      "from astropy import table"
     ],
     "language": "python",
     "metadata": {},
     "outputs": [],
     "prompt_number": 1
    },
    {
     "cell_type": "code",
     "collapsed": false,
     "input": [
      "Nhalos = 1e3\n",
      "Lbox = 1000\n",
      "x = np.random.uniform(0, Lbox, Nhalos)\n",
      "y = np.random.uniform(0, Lbox, Nhalos)\n",
      "z = np.random.uniform(0, Lbox, Nhalos)\n",
      "vx = np.random.uniform(-1000, 1000, Nhalos)\n",
      "vy = np.random.uniform(-1000, 1000, Nhalos)\n",
      "vz = np.random.uniform(-1000, 1000, Nhalos)\n",
      "haloid = np.arange(Nhalos)\n",
      "h = {'x': x, 'y': y, 'z': z, 'vx': vx, 'vy': vy, 'vz': vz, 'haloid': haloid}\n",
      "halos = table.Table(h)"
     ],
     "language": "python",
     "metadata": {},
     "outputs": [],
     "prompt_number": 2
    },
    {
     "cell_type": "code",
     "collapsed": false,
     "input": [
      "Nptcl = 1e6\n",
      "haloid = np.random.random_integers(0, Nhalos-1, Nptcl)\n",
      "p = {'haloid': haloid}\n",
      "particles = table.Table(p)"
     ],
     "language": "python",
     "metadata": {},
     "outputs": [],
     "prompt_number": 3
    },
    {
     "cell_type": "code",
     "collapsed": false,
     "input": [
      "grouped_particles = particles.group_by('haloid')"
     ],
     "language": "python",
     "metadata": {},
     "outputs": [],
     "prompt_number": 4
    },
    {
     "cell_type": "code",
     "collapsed": false,
     "input": [
      "grouped_particles['halocat_x'] = np.zeros(len(grouped_particles))\n",
      "grouped_particles['halocat_y'] = np.zeros(len(grouped_particles))\n",
      "grouped_particles['halocat_z'] = np.zeros(len(grouped_particles))\n",
      "grouped_particles['halocat_vx'] = np.zeros(len(grouped_particles))\n",
      "grouped_particles['halocat_vy'] = np.zeros(len(grouped_particles))\n",
      "grouped_particles['halocat_vz'] = np.zeros(len(grouped_particles))"
     ],
     "language": "python",
     "metadata": {},
     "outputs": [],
     "prompt_number": 5
    },
    {
     "cell_type": "code",
     "collapsed": false,
     "input": [],
     "language": "python",
     "metadata": {},
     "outputs": [],
     "prompt_number": 4
    },
    {
     "cell_type": "code",
     "collapsed": false,
     "input": [],
     "language": "python",
     "metadata": {},
     "outputs": [],
     "prompt_number": 4
    },
    {
     "cell_type": "code",
     "collapsed": false,
     "input": [],
     "language": "python",
     "metadata": {},
     "outputs": [],
     "prompt_number": 4
    },
    {
     "cell_type": "code",
     "collapsed": false,
     "input": [],
     "language": "python",
     "metadata": {},
     "outputs": [],
     "prompt_number": 4
    },
    {
     "cell_type": "code",
     "collapsed": false,
     "input": [],
     "language": "python",
     "metadata": {},
     "outputs": [],
     "prompt_number": 4
    },
    {
     "cell_type": "code",
     "collapsed": false,
     "input": [],
     "language": "python",
     "metadata": {},
     "outputs": [],
     "prompt_number": 4
    },
    {
     "cell_type": "code",
     "collapsed": false,
     "input": [],
     "language": "python",
     "metadata": {},
     "outputs": [],
     "prompt_number": 4
    }
   ],
   "metadata": {}
  }
 ]
}