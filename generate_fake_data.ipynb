{
 "metadata": {
  "name": "",
  "signature": "sha256:ed15029efa2a280be61adf9946f1d1facbbc01f8ecaf0c98ab99baeb74a84379"
 },
 "nbformat": 3,
 "nbformat_minor": 0,
 "worksheets": [
  {
   "cells": [
    {
     "cell_type": "code",
     "collapsed": false,
     "input": [
      "from astropy import table"
     ],
     "language": "python",
     "metadata": {},
     "outputs": [],
     "prompt_number": 1
    },
    {
     "cell_type": "code",
     "collapsed": false,
     "input": [
      "approx_Nhalos = 1e3\n",
      "hid = np.random.random_integers(0, 1e6, approx_Nhalos)\n",
      "hid = np.array(list(set(hid)))\n",
      "Nhalos = len(hid)\n",
      "Lbox = 1000\n",
      "hx = np.random.uniform(0, Lbox, Nhalos)\n",
      "hy = np.random.uniform(0, Lbox, Nhalos)\n",
      "hz = np.random.uniform(0, Lbox, Nhalos)\n",
      "hvx = np.random.uniform(-1000, 1000, Nhalos)\n",
      "hvy = np.random.uniform(-1000, 1000, Nhalos)\n",
      "hvz = np.random.uniform(-1000, 1000, Nhalos)\n",
      "halo_dict = {'x': hx, 'y': hy, 'z': hz, 'vx': hvx, 'vy': hvy, 'vz': hvz, 'haloid': hid}\n",
      "halos = table.Table(halo_dict)"
     ],
     "language": "python",
     "metadata": {},
     "outputs": [],
     "prompt_number": 2
    },
    {
     "cell_type": "code",
     "collapsed": false,
     "input": [
      "Nptcl = 1e4\n",
      "ptcl_hid = np.random.random_integers(0, len(hid)-1, Nptcl)\n",
      "ptcl_hid = hid[ptcl_hid]\n",
      "ptcl_dict = {'haloid': ptcl_hid}\n",
      "particles = table.Table(ptcl_dict)\n",
      "particles['halocat_x'] = 0.\n",
      "particles['halocat_y'] = 0.\n",
      "particles['halocat_z'] = 0.\n",
      "particles['halocat_vx'] = 0.\n",
      "particles['halocat_vy'] = 0.\n",
      "particles['halocat_vz'] = 0."
     ],
     "language": "python",
     "metadata": {},
     "outputs": [],
     "prompt_number": 8
    },
    {
     "cell_type": "code",
     "collapsed": false,
     "input": [
      "halos.sort('haloid')\n",
      "particles.sort('haloid')\n",
      "ptcl_halo_idx = np.searchsorted(particles['haloid'], halos['haloid'])\n",
      "ptcl_halo_idx = np.append(ptcl_halo_idx, None)\n",
      "for halo, first_idx, last_idx in zip(halos, ptcl_halo_idx[0:-1], ptcl_halo_idx[1:]):\n",
      "    particles[first_idx:last_idx]['halocat_x'] = halo['x']\n",
      "    particles[first_idx:last_idx]['halocat_y'] = halo['y']\n",
      "    particles[first_idx:last_idx]['halocat_z'] = halo['z']\n",
      "    particles[first_idx:last_idx]['halocat_vx'] = halo['vx']\n",
      "    particles[first_idx:last_idx]['halocat_vy'] = halo['vy']\n",
      "    particles[first_idx:last_idx]['halocat_vz'] = halo['vz']\n"
     ],
     "language": "python",
     "metadata": {},
     "outputs": [],
     "prompt_number": 12
    },
    {
     "cell_type": "code",
     "collapsed": false,
     "input": [],
     "language": "python",
     "metadata": {},
     "outputs": [],
     "prompt_number": 11
    },
    {
     "cell_type": "code",
     "collapsed": false,
     "input": [],
     "language": "python",
     "metadata": {},
     "outputs": [],
     "prompt_number": 11
    },
    {
     "cell_type": "code",
     "collapsed": false,
     "input": [],
     "language": "python",
     "metadata": {},
     "outputs": [],
     "prompt_number": 11
    },
    {
     "cell_type": "code",
     "collapsed": false,
     "input": [],
     "language": "python",
     "metadata": {},
     "outputs": [],
     "prompt_number": 11
    },
    {
     "cell_type": "code",
     "collapsed": false,
     "input": [],
     "language": "python",
     "metadata": {},
     "outputs": [],
     "prompt_number": 11
    }
   ],
   "metadata": {}
  }
 ]
}