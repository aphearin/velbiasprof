{
 "metadata": {
  "name": "",
  "signature": "sha256:6e85fad53cebbaf58a316bbc900a7c9765d9ce99ce2b53009c9eac2cee4c53d1"
 },
 "nbformat": 3,
 "nbformat_minor": 0,
 "worksheets": [
  {
   "cells": [
    {
     "cell_type": "code",
     "collapsed": false,
     "input": [
      "%matplotlib inline\n",
      "from astropy import table"
     ],
     "language": "python",
     "metadata": {},
     "outputs": [],
     "prompt_number": 38
    },
    {
     "cell_type": "markdown",
     "metadata": {},
     "source": [
      "### Create fake halos"
     ]
    },
    {
     "cell_type": "code",
     "collapsed": false,
     "input": [
      "approx_Nhalos = 1e3\n",
      "hid = np.random.random_integers(0, 1e6, approx_Nhalos)\n",
      "hid = np.array(list(set(hid)))\n",
      "Nhalos = len(hid)\n",
      "Lbox = 1000\n",
      "hx = np.random.uniform(0, Lbox, Nhalos)\n",
      "hy = np.random.uniform(0, Lbox, Nhalos)\n",
      "hz = np.random.uniform(0, Lbox, Nhalos)\n",
      "hvx = np.random.uniform(-1000, 1000, Nhalos)\n",
      "hvy = np.random.uniform(-1000, 1000, Nhalos)\n",
      "hvz = np.random.uniform(-1000, 1000, Nhalos)\n",
      "halo_dict = {'x': hx, 'y': hy, 'z': hz, 'vx': hvx, 'vy': hvy, 'vz': hvz, 'haloid': hid}\n",
      "halos = table.Table(halo_dict)"
     ],
     "language": "python",
     "metadata": {},
     "outputs": [],
     "prompt_number": 39
    },
    {
     "cell_type": "markdown",
     "metadata": {},
     "source": [
      "### Create fake particles"
     ]
    },
    {
     "cell_type": "code",
     "collapsed": false,
     "input": [
      "Nptcl = 1e4\n",
      "ptcl_hid = np.random.random_integers(0, len(hid)-1, Nptcl)\n",
      "ptcl_hid = hid[ptcl_hid]\n",
      "ptcl_dict = {'haloid': ptcl_hid}\n",
      "particles = table.Table(ptcl_dict)\n",
      "particles['halocat_x'] = 0.\n",
      "particles['halocat_y'] = 0.\n",
      "particles['halocat_z'] = 0.\n",
      "particles['halocat_vx'] = 0.\n",
      "particles['halocat_vy'] = 0.\n",
      "particles['halocat_vz'] = 0."
     ],
     "language": "python",
     "metadata": {},
     "outputs": [],
     "prompt_number": 40
    },
    {
     "cell_type": "markdown",
     "metadata": {},
     "source": [
      "### Compute host halo position and velocity of each particle"
     ]
    },
    {
     "cell_type": "code",
     "collapsed": false,
     "input": [
      "halos.sort('haloid')\n",
      "particles.sort('haloid')\n",
      "ptcl_halo_idx = np.searchsorted(particles['haloid'], halos['haloid'])\n",
      "ptcl_halo_idx = np.append(ptcl_halo_idx, None)\n",
      "for halo, first_idx, last_idx in zip(halos, ptcl_halo_idx[0:-1], ptcl_halo_idx[1:]):\n",
      "    particles[first_idx:last_idx]['halocat_x'] = halo['x']\n",
      "    particles[first_idx:last_idx]['halocat_y'] = halo['y']\n",
      "    particles[first_idx:last_idx]['halocat_z'] = halo['z']\n",
      "    particles[first_idx:last_idx]['halocat_vx'] = halo['vx']\n",
      "    particles[first_idx:last_idx]['halocat_vy'] = halo['vy']\n",
      "    particles[first_idx:last_idx]['halocat_vz'] = halo['vz']\n"
     ],
     "language": "python",
     "metadata": {},
     "outputs": [],
     "prompt_number": 41
    },
    {
     "cell_type": "markdown",
     "metadata": {},
     "source": [
      "### Create realistic fake positions and velocities for the particles"
     ]
    },
    {
     "cell_type": "code",
     "collapsed": false,
     "input": [
      "particles['x'] = np.random.normal(loc = particles['halocat_x'], scale=1, size=len(particles))\n",
      "particles['x'] = np.where(particles['x'] > Lbox, particles['x']-Lbox, particles['x'])\n",
      "particles['x'] = np.where(particles['x'] < 0, particles['x']+Lbox, particles['x'])\n",
      "\n",
      "particles['y'] = np.random.normal(loc = particles['halocat_y'], scale=1, size=len(particles))\n",
      "particles['y'] = np.where(particles['y'] > Lbox, particles['y']-Lbox, particles['y'])\n",
      "particles['y'] = np.where(particles['y'] < 0, particles['y']+Lbox, particles['y'])\n",
      "\n",
      "particles['z'] = np.random.normal(loc = particles['halocat_z'], scale=1, size=len(particles))\n",
      "particles['z'] = np.where(particles['z'] > Lbox, particles['z']-Lbox, particles['z'])\n",
      "particles['z'] = np.where(particles['z'] < 0, particles['z']+Lbox, particles['z'])\n",
      "\n",
      "particles['vx'] = np.random.normal(loc = particles['halocat_vx'], scale=500, size=len(particles))\n",
      "particles['vy'] = np.random.normal(loc = particles['halocat_vy'], scale=500, size=len(particles))\n",
      "particles['vz'] = np.random.normal(loc = particles['halocat_vz'], scale=500, size=len(particles))"
     ],
     "language": "python",
     "metadata": {},
     "outputs": [],
     "prompt_number": 44
    },
    {
     "cell_type": "markdown",
     "metadata": {},
     "source": [
      "### Compute each particle's host-centric distance "
     ]
    },
    {
     "cell_type": "code",
     "collapsed": false,
     "input": [
      "xdist = np.abs(particles['x'] - particles['halocat_x'])\n",
      "\n",
      "xdist = np.where(xdist > Lbox/2., Lbox - xdist, xdist)\n",
      "\n",
      "ydist = np.abs(particles['y'] - particles['halocat_y'])\n",
      "zdist = np.abs(particles['z'] - particles['halocat_z'])\n",
      "\n"
     ],
     "language": "python",
     "metadata": {},
     "outputs": [],
     "prompt_number": 43
    },
    {
     "cell_type": "code",
     "collapsed": false,
     "input": [],
     "language": "python",
     "metadata": {},
     "outputs": [],
     "prompt_number": 43
    },
    {
     "cell_type": "code",
     "collapsed": false,
     "input": [],
     "language": "python",
     "metadata": {},
     "outputs": [],
     "prompt_number": 43
    },
    {
     "cell_type": "code",
     "collapsed": false,
     "input": [],
     "language": "python",
     "metadata": {},
     "outputs": [],
     "prompt_number": 43
    },
    {
     "cell_type": "code",
     "collapsed": false,
     "input": [],
     "language": "python",
     "metadata": {},
     "outputs": [],
     "prompt_number": 43
    },
    {
     "cell_type": "code",
     "collapsed": false,
     "input": [],
     "language": "python",
     "metadata": {},
     "outputs": [],
     "prompt_number": 43
    },
    {
     "cell_type": "code",
     "collapsed": false,
     "input": [],
     "language": "python",
     "metadata": {},
     "outputs": [],
     "prompt_number": 43
    },
    {
     "cell_type": "code",
     "collapsed": false,
     "input": [],
     "language": "python",
     "metadata": {},
     "outputs": [],
     "prompt_number": 43
    },
    {
     "cell_type": "code",
     "collapsed": false,
     "input": [],
     "language": "python",
     "metadata": {},
     "outputs": [],
     "prompt_number": 43
    }
   ],
   "metadata": {}
  }
 ]
}