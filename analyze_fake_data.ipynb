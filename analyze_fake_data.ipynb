{
 "metadata": {
  "name": "",
  "signature": "sha256:db17b2af2738d3bee9bc5ccc7ebe5f1dce1fac2d059f6ff287fd54a970fee77b"
 },
 "nbformat": 3,
 "nbformat_minor": 0,
 "worksheets": [
  {
   "cells": [
    {
     "cell_type": "code",
     "collapsed": false,
     "input": [
      "%matplotlib inline\n",
      "from astropy import table\n",
      "import h5py"
     ],
     "language": "python",
     "metadata": {},
     "outputs": [],
     "prompt_number": 1
    },
    {
     "cell_type": "markdown",
     "metadata": {},
     "source": [
      "### Load halo data and convert to Astropy Table"
     ]
    },
    {
     "cell_type": "code",
     "collapsed": false,
     "input": [
      "halos_fname = 'DATA/mdr1_fof.hdf5'\n",
      "with h5py.File(halos_fname,'r') as f:\n",
      "    dset = f['data']\n",
      "    d = {key: dset[key] for key in dset.dtype.names}\n",
      "    halos = table.Table(d)\n",
      "print halos.keys()"
     ],
     "language": "python",
     "metadata": {},
     "outputs": [
      {
       "output_type": "stream",
       "stream": "stdout",
       "text": [
        "['vy', 'vx', 'mass', 'rowid', 'haloid', 'y', 'x', 'vz', 'z', 'size']\n"
       ]
      }
     ],
     "prompt_number": 2
    },
    {
     "cell_type": "markdown",
     "metadata": {},
     "source": [
      "### Load particle data and convert to Astropy Table"
     ]
    },
    {
     "cell_type": "code",
     "collapsed": false,
     "input": [
      "ptcl_fname = 'DATA/mdr1_fofp_0_0_0.hdf5'\n",
      "with h5py.File(ptcl_fname,'r') as f:\n",
      "    dset = f['data']\n",
      "    d = {key: dset[key] for key in dset.dtype.names}\n",
      "    particles = table.Table(d)\n",
      "print particles.keys()"
     ],
     "language": "python",
     "metadata": {},
     "outputs": [
      {
       "output_type": "stream",
       "stream": "stdout",
       "text": [
        "['haloid', 'vx', 'rowid', 'vy', 'y', 'x', 'vz', 'z']\n"
       ]
      }
     ],
     "prompt_number": 3
    },
    {
     "cell_type": "markdown",
     "metadata": {},
     "source": [
      "### Compute host halo position and velocity of each particle"
     ]
    },
    {
     "cell_type": "code",
     "collapsed": false,
     "input": [
      "# Initialize new columns for particle data\n",
      "particles['halocat_x']=0.\n",
      "particles['halocat_y']=0.\n",
      "particles['halocat_z']=0.\n",
      "particles['halocat_vx']=0.\n",
      "particles['halocat_vy']=0.\n",
      "particles['halocat_vz']=0.\n",
      "particles['halocat_mass']=0.\n",
      "particles['halocat_size']=0."
     ],
     "language": "python",
     "metadata": {},
     "outputs": [],
     "prompt_number": 4
    },
    {
     "cell_type": "code",
     "collapsed": false,
     "input": [
      "halos.sort('haloid')\n",
      "particles.sort('haloid')\n",
      "ptcl_haloid, ptcl_haloid_idx, ptcl_haloid_counts = np.unique(particles['haloid'], \n",
      "                                                             return_index=True, return_counts=True)\n",
      "halo_haloid_idx = np.searchsorted(halos['haloid'], ptcl_haloid)"
     ],
     "language": "python",
     "metadata": {},
     "outputs": [],
     "prompt_number": 5
    },
    {
     "cell_type": "code",
     "collapsed": false,
     "input": [
      "for halo_idx, first_ptcl_idx, nptcl in zip(halo_haloid_idx, ptcl_haloid_idx, ptcl_haloid_counts):\n",
      "    particles[first_ptcl_idx:first_ptcl_idx+nptcl]['halocat_x'] = halos[halo_idx]['x']\n",
      "    particles[first_ptcl_idx:first_ptcl_idx+nptcl]['halocat_y'] = halos[halo_idx]['y']\n",
      "    particles[first_ptcl_idx:first_ptcl_idx+nptcl]['halocat_z'] = halos[halo_idx]['z']\n",
      "    particles[first_ptcl_idx:first_ptcl_idx+nptcl]['halocat_vx'] = halos[halo_idx]['vx']\n",
      "    particles[first_ptcl_idx:first_ptcl_idx+nptcl]['halocat_vy'] = halos[halo_idx]['vy']\n",
      "    particles[first_ptcl_idx:first_ptcl_idx+nptcl]['halocat_vz'] = halos[halo_idx]['vz']\n",
      "    particles[first_ptcl_idx:first_ptcl_idx+nptcl]['halocat_mass'] = halos[halo_idx]['mass']\n",
      "    particles[first_ptcl_idx:first_ptcl_idx+nptcl]['halocat_size'] = halos[halo_idx]['size']"
     ],
     "language": "python",
     "metadata": {},
     "outputs": [],
     "prompt_number": 6
    },
    {
     "cell_type": "markdown",
     "metadata": {},
     "source": [
      "### Compute each particle's host-centric distance "
     ]
    },
    {
     "cell_type": "code",
     "collapsed": false,
     "input": [
      "Lbox = 1000.\n",
      "xdist = np.abs(particles['x'] - particles['halocat_x'])\n",
      "xdist = np.where(xdist > Lbox/2., Lbox - xdist, xdist)\n",
      "ydist = np.abs(particles['y'] - particles['halocat_y'])\n",
      "ydist = np.where(ydist > Lbox/2., Lbox - ydist, ydist)\n",
      "zdist = np.abs(particles['z'] - particles['halocat_z'])\n",
      "zdist = np.where(zdist > Lbox/2., Lbox - zdist, zdist)\n",
      "particles['scaled_halo_centric_dist'] = np.sqrt(xdist**2 + ydist**2 + zdist**2)/particles['halocat_size']\n",
      "particles.sort(['haloid', 'scaled_halo_centric_dist'])"
     ],
     "language": "python",
     "metadata": {},
     "outputs": [],
     "prompt_number": 7
    },
    {
     "cell_type": "code",
     "collapsed": false,
     "input": [
      "ptcl_haloid, ptcl_haloid_idx, ptcl_haloid_counts = np.unique(particles['haloid'], \n",
      "                                                             return_index=True, return_counts=True)\n",
      "halo_haloid_idx = np.searchsorted(halos['haloid'], ptcl_haloid)\n",
      "\n",
      "halos['vx_all'] = 0.\n",
      "halos['vx_inner10'] = 0.\n",
      "halos['vx_inner25'] = 0.\n",
      "halos['vx_central_ptcl'] = 0.\n",
      "halos['vy_all'] = 0.\n",
      "halos['vy_inner10'] = 0.\n",
      "halos['vy_inner25'] = 0.\n",
      "halos['vy_central_ptcl'] = 0.\n",
      "halos['vz_all'] = 0.\n",
      "halos['vz_inner10'] = 0.\n",
      "halos['vz_inner25'] = 0.\n",
      "halos['vz_central_ptcl'] = 0.\n",
      "for halo_idx, first_ptcl_idx, nptcl in zip(halo_haloid_idx, ptcl_haloid_idx, ptcl_haloid_counts):\n",
      "    last_idx_inner10 = first_ptcl_idx+int(np.round(nptcl/10.))\n",
      "    last_idx_inner25 = first_ptcl_idx+int(np.round(nptcl/25.))\n",
      "    last_idx_all = first_ptcl_idx+nptcl\n",
      "    halos[halo_idx]['vx_all'] = particles[first_ptcl_idx:last_idx_all]['vx'].mean()\n",
      "    halos[halo_idx]['vy_all'] = particles[first_ptcl_idx:last_idx_all]['vy'].mean()\n",
      "    halos[halo_idx]['vz_all'] = particles[first_ptcl_idx:last_idx_all]['vz'].mean()\n",
      "    halos[halo_idx]['vx_inner10'] = particles[first_ptcl_idx:last_idx_inner10]['vx'].mean()\n",
      "    halos[halo_idx]['vy_inner10'] = particles[first_ptcl_idx:last_idx_inner10]['vy'].mean()\n",
      "    halos[halo_idx]['vz_inner10'] = particles[first_ptcl_idx:last_idx_inner10]['vz'].mean()\n",
      "    halos[halo_idx]['vx_inner25'] = particles[first_ptcl_idx:last_idx_inner25]['vx'].mean()\n",
      "    halos[halo_idx]['vy_inner25'] = particles[first_ptcl_idx:last_idx_inner25]['vy'].mean()\n",
      "    halos[halo_idx]['vz_inner25'] = particles[first_ptcl_idx:last_idx_inner25]['vz'].mean()\n",
      "    halos[halo_idx]['vx_central_ptcl'] = particles[first_ptcl_idx]['vx']\n",
      "    halos[halo_idx]['vy_central_ptcl'] = particles[first_ptcl_idx]['vy']\n",
      "    halos[halo_idx]['vz_central_ptcl'] = particles[first_ptcl_idx]['vz']"
     ],
     "language": "python",
     "metadata": {},
     "outputs": [],
     "prompt_number": 8
    },
    {
     "cell_type": "code",
     "collapsed": false,
     "input": [
      "matched_halos = halos[halo_haloid_idx]"
     ],
     "language": "python",
     "metadata": {},
     "outputs": [],
     "prompt_number": 9
    },
    {
     "cell_type": "code",
     "collapsed": false,
     "input": [
      "diffcen = matched_halos['vz'] - matched_halos['vz_central_ptcl']\n",
      "diff25 = matched_halos['vz'] - matched_halos['vz_inner25']\n",
      "diff10 = matched_halos['vz'] - matched_halos['vz_inner10']\n",
      "diffall = matched_halos['vz'] - matched_halos['vz_all']\n",
      "print diffall.min(),  diffall.max() # highly non-trivial sanity check"
     ],
     "language": "python",
     "metadata": {},
     "outputs": [
      {
       "output_type": "stream",
       "stream": "stdout",
       "text": [
        "-0.00502948897565 0.00500071117169\n"
       ]
      }
     ],
     "prompt_number": 10
    },
    {
     "cell_type": "code",
     "collapsed": false,
     "input": [
      "p=plt.hist(diffcen, bins=100, color='magenta')\n",
      "p=plt.hist(diff25, bins=100, color='b')\n",
      "p=plt.hist(diff10, bins=100, color='r')\n",
      "p=plt.xlim(xmin=-500, xmax=500)\n",
      "plt.xlabel(\"Velocity Difference Distribution (km/s)\")"
     ],
     "language": "python",
     "metadata": {},
     "outputs": [
      {
       "metadata": {},
       "output_type": "pyout",
       "prompt_number": 11,
       "text": [
        "<matplotlib.text.Text at 0x107dec850>"
       ]
      },
      {
       "metadata": {},
       "output_type": "display_data",
       "png": "[encoded data removed]",
       "text": [
        "<matplotlib.figure.Figure at 0x107dc2110>"
       ]
      }
     ],
     "prompt_number": 11
    },
    {
     "cell_type": "code",
     "collapsed": false,
     "input": [],
     "language": "python",
     "metadata": {},
     "outputs": [],
     "prompt_number": 11
    },
    {
     "cell_type": "code",
     "collapsed": false,
     "input": [],
     "language": "python",
     "metadata": {},
     "outputs": [],
     "prompt_number": 11
    },
    {
     "cell_type": "code",
     "collapsed": false,
     "input": [],
     "language": "python",
     "metadata": {},
     "outputs": [],
     "prompt_number": 11
    },
    {
     "cell_type": "code",
     "collapsed": false,
     "input": [],
     "language": "python",
     "metadata": {},
     "outputs": [],
     "prompt_number": 11
    }
   ],
   "metadata": {}
  }
 ]
}