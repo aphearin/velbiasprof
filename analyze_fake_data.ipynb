{
 "metadata": {
  "name": "",
  "signature": "sha256:c91e821c153afb56a0c9ae338ed74915a5988c63019be1f82fba64997b4a0e7c"
 },
 "nbformat": 3,
 "nbformat_minor": 0,
 "worksheets": [
  {
   "cells": [
    {
     "cell_type": "code",
     "collapsed": false,
     "input": [
      "%matplotlib inline\n",
      "from astropy import table\n",
      "import h5py"
     ],
     "language": "python",
     "metadata": {},
     "outputs": [],
     "prompt_number": 1
    },
    {
     "cell_type": "markdown",
     "metadata": {},
     "source": [
      "### Load halo data and convert to Astropy Table"
     ]
    },
    {
     "cell_type": "code",
     "collapsed": false,
     "input": [
      "halos_fname = 'DATA/mdr1_fof.hdf5'\n",
      "with h5py.File(halos_fname,'r') as f:\n",
      "    dset = f['data']\n",
      "    d = {key: dset[key] for key in dset.dtype.names}\n",
      "    halos = table.Table(d)\n",
      "print halos.keys()"
     ],
     "language": "python",
     "metadata": {},
     "outputs": [
      {
       "output_type": "stream",
       "stream": "stdout",
       "text": [
        "['vy', 'vx', 'mass', 'rowid', 'haloid', 'y', 'x', 'vz', 'z', 'size']\n"
       ]
      }
     ],
     "prompt_number": 2
    },
    {
     "cell_type": "markdown",
     "metadata": {},
     "source": [
      "### Load particle data and convert to Astropy Table"
     ]
    },
    {
     "cell_type": "code",
     "collapsed": false,
     "input": [
      "ptcl_fname = 'DATA/mdr1_fofp_0_0_0.hdf5'\n",
      "with h5py.File(ptcl_fname,'r') as f:\n",
      "    dset = f['data']\n",
      "    d = {key: dset[key] for key in dset.dtype.names}\n",
      "    particles = table.Table(d)\n",
      "print particles.keys()"
     ],
     "language": "python",
     "metadata": {},
     "outputs": [
      {
       "output_type": "stream",
       "stream": "stdout",
       "text": [
        "['haloid', 'vx', 'rowid', 'vy', 'y', 'x', 'vz', 'z']\n"
       ]
      }
     ],
     "prompt_number": 3
    },
    {
     "cell_type": "markdown",
     "metadata": {},
     "source": [
      "### Compute host halo position and velocity of each particle"
     ]
    },
    {
     "cell_type": "code",
     "collapsed": false,
     "input": [
      "# Initialize new columns for particle data\n",
      "particles['halocat_x']=0.\n",
      "particles['halocat_y']=0.\n",
      "particles['halocat_z']=0.\n",
      "particles['halocat_vx']=0.\n",
      "particles['halocat_vy']=0.\n",
      "particles['halocat_vz']=0."
     ],
     "language": "python",
     "metadata": {},
     "outputs": [],
     "prompt_number": 4
    },
    {
     "cell_type": "code",
     "collapsed": false,
     "input": [
      "halos.sort('haloid')\n",
      "particles.sort('haloid')\n",
      "ptcl_haloid, ptcl_haloid_idx, ptcl_haloid_counts = np.unique(particles['haloid'], \n",
      "                                                             return_index=True, return_counts=True)\n",
      "halo_haloid_idx = np.searchsorted(halos['haloid'], ptcl_haloid)"
     ],
     "language": "python",
     "metadata": {},
     "outputs": [],
     "prompt_number": 5
    },
    {
     "cell_type": "code",
     "collapsed": false,
     "input": [
      "for halo_idx, first_ptcl_idx, nptcl in zip(halo_haloid_idx, ptcl_haloid_idx, ptcl_haloid_counts):\n",
      "    particles[first_ptcl_idx:first_ptcl_idx+nptcl]['halocat_x'] = halos[halo_idx]['x']\n",
      "    particles[first_ptcl_idx:first_ptcl_idx+nptcl]['halocat_y'] = halos[halo_idx]['y']\n",
      "    particles[first_ptcl_idx:first_ptcl_idx+nptcl]['halocat_z'] = halos[halo_idx]['z']\n",
      "    particles[first_ptcl_idx:first_ptcl_idx+nptcl]['halocat_vx'] = halos[halo_idx]['vx']\n",
      "    particles[first_ptcl_idx:first_ptcl_idx+nptcl]['halocat_vy'] = halos[halo_idx]['vy']\n",
      "    particles[first_ptcl_idx:first_ptcl_idx+nptcl]['halocat_vz'] = halos[halo_idx]['vz']"
     ],
     "language": "python",
     "metadata": {},
     "outputs": [],
     "prompt_number": 6
    },
    {
     "cell_type": "markdown",
     "metadata": {},
     "source": [
      "### Compute each particle's host-centric distance "
     ]
    },
    {
     "cell_type": "code",
     "collapsed": false,
     "input": [
      "xdist = np.abs(particles['x'] - particles['halocat_x'])\n",
      "xdist = np.where(xdist > Lbox/2., Lbox - xdist, xdist)\n",
      "ydist = np.abs(particles['y'] - particles['halocat_y'])\n",
      "ydist = np.where(ydist > Lbox/2., Lbox - ydist, ydist)\n",
      "zdist = np.abs(particles['z'] - particles['halocat_z'])\n",
      "zdist = np.where(zdist > Lbox/2., Lbox - zdist, zdist)"
     ],
     "language": "python",
     "metadata": {},
     "outputs": [],
     "prompt_number": 6
    },
    {
     "cell_type": "code",
     "collapsed": false,
     "input": [],
     "language": "python",
     "metadata": {},
     "outputs": [],
     "prompt_number": 6
    },
    {
     "cell_type": "code",
     "collapsed": false,
     "input": [],
     "language": "python",
     "metadata": {},
     "outputs": [],
     "prompt_number": 6
    },
    {
     "cell_type": "code",
     "collapsed": false,
     "input": [],
     "language": "python",
     "metadata": {},
     "outputs": [],
     "prompt_number": 6
    },
    {
     "cell_type": "code",
     "collapsed": false,
     "input": [],
     "language": "python",
     "metadata": {},
     "outputs": [],
     "prompt_number": 6
    },
    {
     "cell_type": "code",
     "collapsed": false,
     "input": [],
     "language": "python",
     "metadata": {},
     "outputs": [],
     "prompt_number": 6
    },
    {
     "cell_type": "code",
     "collapsed": false,
     "input": [],
     "language": "python",
     "metadata": {},
     "outputs": [],
     "prompt_number": 6
    }
   ],
   "metadata": {}
  }
 ]
}